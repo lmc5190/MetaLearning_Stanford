{
 "cells": [
  {
   "cell_type": "code",
   "execution_count": 2,
   "metadata": {},
   "outputs": [
    {
     "name": "stdout",
     "output_type": "stream",
     "text": [
      "Collecting imageio\n",
      "\u001b[?25l  Downloading https://files.pythonhosted.org/packages/4c/2b/9dd19644f871b10f7e32eb2dbd6b45149c350b4d5f2893e091b882e03ab7/imageio-2.8.0-py3-none-any.whl (3.3MB)\n",
      "\u001b[K     |████████████████████████████████| 3.3MB 3.4MB/s eta 0:00:01\n",
      "\u001b[?25hCollecting pillow (from imageio)\n",
      "\u001b[?25l  Downloading https://files.pythonhosted.org/packages/e0/50/8e78e6f62ffa50d6ca95c281d5a2819bef66d023ac1b723e253de5bda9c5/Pillow-7.1.2-cp36-cp36m-manylinux1_x86_64.whl (2.1MB)\n",
      "\u001b[K     |████████████████████████████████| 2.1MB 6.2MB/s eta 0:00:01\n",
      "\u001b[?25hRequirement already satisfied: numpy in /usr/local/lib/python3.6/dist-packages (from imageio) (1.16.4)\n",
      "Installing collected packages: pillow, imageio\n",
      "Successfully installed imageio-2.8.0 pillow-7.1.2\n",
      "\u001b[33mWARNING: You are using pip version 19.1.1, however version 20.0.2 is available.\n",
      "You should consider upgrading via the 'pip install --upgrade pip' command.\u001b[0m\n",
      "Note: you may need to restart the kernel to use updated packages.\n"
     ]
    }
   ],
   "source": [
    "%pip install imageio"
   ]
  },
  {
   "cell_type": "code",
   "execution_count": 19,
   "metadata": {},
   "outputs": [],
   "source": [
    "import numpy as np\n",
    "import os\n",
    "import random\n",
    "import tensorflow as tf\n",
    "import imageio"
   ]
  },
  {
   "cell_type": "code",
   "execution_count": 20,
   "metadata": {},
   "outputs": [],
   "source": [
    "def get_images(paths, labels, nb_samples=None, shuffle=True):\n",
    "    \"\"\"\n",
    "    Takes a set of character folders and labels and returns paths to image files\n",
    "    paired with labels.\n",
    "    Args:\n",
    "        paths: A list of character folders\n",
    "        labels: List or numpy array of same length as paths\n",
    "        nb_samples: Number of images to retrieve per character\n",
    "    Returns:\n",
    "        List of (label, image_path) tuples\n",
    "    \"\"\"\n",
    "    if nb_samples is not None:\n",
    "        sampler = lambda x: random.sample(x, nb_samples)\n",
    "    else:\n",
    "        sampler = lambda x: x\n",
    "    images_labels = [(i, os.path.join(path, image))\n",
    "                     for i, path in zip(labels, paths)\n",
    "                     for image in sampler(os.listdir(path))]\n",
    "    if shuffle:\n",
    "        random.shuffle(images_labels)\n",
    "    return images_labels"
   ]
  },
  {
   "cell_type": "code",
   "execution_count": 21,
   "metadata": {},
   "outputs": [],
   "source": [
    "def image_file_to_array(filename, dim_input):\n",
    "    \"\"\"\n",
    "    Takes an image path and returns numpy array\n",
    "    Args:\n",
    "        filename: Image filename\n",
    "        dim_input: Flattened shape of image\n",
    "    Returns:\n",
    "        1 channel image\n",
    "    \"\"\"\n",
    "    image = imageio.imread(filename)\n",
    "    image = image.reshape([dim_input])\n",
    "    image = image.astype(np.float32) / 255.0\n",
    "    image = 1.0 - image\n",
    "    return image"
   ]
  },
  {
   "cell_type": "code",
   "execution_count": 22,
   "metadata": {},
   "outputs": [],
   "source": [
    "class DataGenerator(object):\n",
    "    \"\"\"\n",
    "    Data Generator capable of generating batches of Omniglot data.\n",
    "    A \"class\" is considered a class of omniglot digits.\n",
    "    \"\"\"\n",
    "\n",
    "    def __init__(self, num_classes, num_samples_per_class, config={}):\n",
    "        \"\"\"\n",
    "        Args:\n",
    "            num_classes: Number of classes for classification (K-way)\n",
    "            num_samples_per_class: num samples to generate per class in one batch\n",
    "            batch_size: size of meta batch size (e.g. number of functions)\n",
    "        \"\"\"\n",
    "        self.num_samples_per_class = num_samples_per_class\n",
    "        self.num_classes = num_classes\n",
    "\n",
    "        data_folder = config.get('data_folder', './omniglot_resized')\n",
    "        self.img_size = config.get('img_size', (28, 28))\n",
    "\n",
    "        self.dim_input = np.prod(self.img_size)\n",
    "        self.dim_output = self.num_classes\n",
    "\n",
    "        character_folders = [os.path.join(data_folder, family, character)\n",
    "                             for family in os.listdir(data_folder)\n",
    "                             if os.path.isdir(os.path.join(data_folder, family))\n",
    "                             for character in os.listdir(os.path.join(data_folder, family))\n",
    "                             if os.path.isdir(os.path.join(data_folder, family, character))]\n",
    "\n",
    "        random.seed(1)\n",
    "        random.shuffle(character_folders)\n",
    "        num_val = 100\n",
    "        num_train = 1100\n",
    "        self.metatrain_character_folders = character_folders[: num_train]\n",
    "        self.metaval_character_folders = character_folders[\n",
    "            num_train:num_train + num_val]\n",
    "        self.metatest_character_folders = character_folders[\n",
    "            num_train + num_val:]\n",
    "\n",
    "    def sample_batch(self, batch_type, batch_size):\n",
    "        \"\"\"\n",
    "        Samples a batch for training, validation, or testing\n",
    "        Args:\n",
    "            batch_type: train/val/test\n",
    "        Returns:\n",
    "            A a tuple of (1) Image batch and (2) Label batch where\n",
    "            image batch has shape [B, K, N, 784] and label batch has shape [B, K, N, N]\n",
    "            where B is batch size, K is number of samples per class, N is number of classes\n",
    "        \"\"\"\n",
    "        if batch_type == \"train\":\n",
    "            folders = self.metatrain_character_folders\n",
    "        elif batch_type == \"val\":\n",
    "            folders = self.metaval_character_folders\n",
    "        else:\n",
    "            folders = self.metatest_character_folders\n",
    "\n",
    "        #############################\n",
    "        #### YOUR CODE GOES HERE ####\n",
    "        labels_images=[]\n",
    "\n",
    "        for i in range(batch_size):\n",
    "            paths=random.sample(folders, self.num_classes)\n",
    "            labels=np.eye(self.num_classes).tolist()\n",
    "            for j in range(self.num_samples_per_class):\n",
    "                labels_images.extend(get_images(paths, labels, 1, shuffle=True))\n",
    "\n",
    "        all_image_batches=[image_file_to_array(label_image[1],784) for label_image in labels_images] \n",
    "        all_label_batches=[label_image[0] for label_image in labels_images]\n",
    "        all_image_batches=np.reshape(all_image_batches,(batch_size, self.num_samples_per_class, self.num_classes, 784))\n",
    "        all_label_batches=np.reshape(all_label_batches, (batch_size, self.num_samples_per_class, self.num_classes, self.num_classes))\n",
    "        #############################\n",
    "\n",
    "        return all_image_batches, all_label_batches"
   ]
  },
  {
   "cell_type": "code",
   "execution_count": 23,
   "metadata": {},
   "outputs": [
    {
     "name": "stdout",
     "output_type": "stream",
     "text": [
      "Testing data generator for  1 shot  5 way meta-learner with a batch size 16\n",
      "train image batch shape is  (16, 2, 5, 784)\n",
      "train label batch shape is  (16, 2, 5, 5)\n",
      "val image batch shape is  (16, 2, 5, 784)\n",
      "val label batch shape is  (16, 2, 5, 5)\n",
      "test image batch shape is  (16, 2, 5, 784)\n",
      "test label batch shape is  (16, 2, 5, 5)\n"
     ]
    }
   ],
   "source": [
    "def test_data_generator(batch_size, num_classes, num_samples_per_class):\n",
    "    \"\"\"\n",
    "        test the DataGenerator class's sample_batch function\n",
    "    Args:\n",
    "        batch size, number of classes, number of samples per class\n",
    "    Returns:\n",
    "        nothing, prints images\n",
    "    \"\"\"\n",
    "    data_generator = DataGenerator(num_classes, num_samples_per_class + 1)\n",
    "    print('Testing data generator for ', num_samples_per_class, 'shot ', num_classes, \\\n",
    "          'way meta-learner with a batch size', batch_size)\n",
    "    train_image_batch, train_label_batch = data_generator.sample_batch('train', batch_size)\n",
    "    print('train image batch shape is ', train_image_batch.shape)\n",
    "    print('train label batch shape is ', train_label_batch.shape)\n",
    "    val_image_batch, val_label_batch = data_generator.sample_batch('val', batch_size)\n",
    "    print('val image batch shape is ', val_image_batch.shape)\n",
    "    print('val label batch shape is ', val_label_batch.shape)\n",
    "    test_image_batch, test_label_batch = data_generator.sample_batch('test', batch_size)\n",
    "    print('test image batch shape is ', test_image_batch.shape)\n",
    "    print('test label batch shape is ', test_label_batch.shape)\n",
    "    return\n",
    "\n",
    "test_data_generator(16,5,1)\n"
   ]
  },
  {
   "cell_type": "code",
   "execution_count": 25,
   "metadata": {
    "scrolled": true
   },
   "outputs": [
    {
     "data": {
      "image/png": "[encoded data removed]",
      "text/plain": [
       "<Figure size 432x288 with 1 Axes>"
      ]
     },
     "metadata": {
      "needs_background": "light"
     },
     "output_type": "display_data"
    },
    {
     "data": {
      "image/png": "[encoded data removed]",
      "text/plain": [
       "<Figure size 432x288 with 1 Axes>"
      ]
     },
     "metadata": {
      "needs_background": "light"
     },
     "output_type": "display_data"
    },
    {
     "data": {
      "image/png": "[encoded data removed]",
      "text/plain": [
       "<Figure size 432x288 with 1 Axes>"
      ]
     },
     "metadata": {
      "needs_background": "light"
     },
     "output_type": "display_data"
    },
    {
     "data": {
      "image/png": "[encoded data removed]",
      "text/plain": [
       "<Figure size 432x288 with 1 Axes>"
      ]
     },
     "metadata": {
      "needs_background": "light"
     },
     "output_type": "display_data"
    },
    {
     "data": {
      "image/png": "[encoded data removed]",
      "text/plain": [
       "<Figure size 432x288 with 1 Axes>"
      ]
     },
     "metadata": {
      "needs_background": "light"
     },
     "output_type": "display_data"
    },
    {
     "data": {
      "image/png": "[encoded data removed]",
      "text/plain": [
       "<Figure size 432x288 with 1 Axes>"
      ]
     },
     "metadata": {
      "needs_background": "light"
     },
     "output_type": "display_data"
    },
    {
     "data": {
      "image/png": "[encoded data removed]",
      "text/plain": [
       "<Figure size 432x288 with 1 Axes>"
      ]
     },
     "metadata": {
      "needs_background": "light"
     },
     "output_type": "display_data"
    },
    {
     "data": {
      "image/png": "[encoded data removed]",
      "text/plain": [
       "<Figure size 432x288 with 1 Axes>"
      ]
     },
     "metadata": {
      "needs_background": "light"
     },
     "output_type": "display_data"
    },
    {
     "data": {
      "image/png": "[encoded data removed]",
      "text/plain": [
       "<Figure size 432x288 with 1 Axes>"
      ]
     },
     "metadata": {
      "needs_background": "light"
     },
     "output_type": "display_data"
    },
    {
     "data": {
      "image/png": "[encoded data removed]",
      "text/plain": [
       "<Figure size 432x288 with 1 Axes>"
      ]
     },
     "metadata": {
      "needs_background": "light"
     },
     "output_type": "display_data"
    },
    {
     "data": {
      "image/png": "[encoded data removed]",
      "text/plain": [
       "<Figure size 432x288 with 1 Axes>"
      ]
     },
     "metadata": {
      "needs_background": "light"
     },
     "output_type": "display_data"
    },
    {
     "data": {
      "image/png": "[encoded data removed]",
      "text/plain": [
       "<Figure size 432x288 with 1 Axes>"
      ]
     },
     "metadata": {
      "needs_background": "light"
     },
     "output_type": "display_data"
    },
    {
     "data": {
      "image/png": "[encoded data removed]",
      "text/plain": [
       "<Figure size 432x288 with 1 Axes>"
      ]
     },
     "metadata": {
      "needs_background": "light"
     },
     "output_type": "display_data"
    },
    {
     "data": {
      "image/png": "[encoded data removed]",
      "text/plain": [
       "<Figure size 432x288 with 1 Axes>"
      ]
     },
     "metadata": {
      "needs_background": "light"
     },
     "output_type": "display_data"
    },
    {
     "data": {
      "image/png": "[encoded data removed]",
      "text/plain": [
       "<Figure size 432x288 with 1 Axes>"
      ]
     },
     "metadata": {
      "needs_background": "light"
     },
     "output_type": "display_data"
    },
    {
     "data": {
      "image/png": "[encoded data removed]",
      "text/plain": [
       "<Figure size 432x288 with 1 Axes>"
      ]
     },
     "metadata": {
      "needs_background": "light"
     },
     "output_type": "display_data"
    },
    {
     "data": {
      "image/png": "[encoded data removed]",
      "text/plain": [
       "<Figure size 432x288 with 1 Axes>"
      ]
     },
     "metadata": {
      "needs_background": "light"
     },
     "output_type": "display_data"
    },
    {
     "data": {
      "image/png": "[encoded data removed]",
      "text/plain": [
       "<Figure size 432x288 with 1 Axes>"
      ]
     },
     "metadata": {
      "needs_background": "light"
     },
     "output_type": "display_data"
    },
    {
     "data": {
      "image/png": "[encoded data removed]",
      "text/plain": [
       "<Figure size 432x288 with 1 Axes>"
      ]
     },
     "metadata": {
      "needs_background": "light"
     },
     "output_type": "display_data"
    },
    {
     "data": {
      "image/png": "[encoded data removed]",
      "text/plain": [
       "<Figure size 432x288 with 1 Axes>"
      ]
     },
     "metadata": {
      "needs_background": "light"
     },
     "output_type": "display_data"
    }
   ],
   "source": [
    "from PIL import Image\n",
    "import matplotlib.pyplot as plt\n",
    "\n",
    "def view_omniglot_imgfiles(n_characters, n_images_pchar, data_folder = './omniglot_resized'):\n",
    "    \"\"\"\n",
    "        view random multiple omniglot image files, for demo purposes\n",
    "    Args:\n",
    "        number of characters, number of images per character, data folder [ex. ./omniglot_resized]\n",
    "    Returns:\n",
    "        nothing, prints images\n",
    "    \"\"\"\n",
    "    character_folders = [os.path.join(data_folder, family, character)\n",
    "                             for family in os.listdir(data_folder)\n",
    "                             if os.path.isdir(os.path.join(data_folder, family))\n",
    "                             for character in os.listdir(os.path.join(data_folder, family))\n",
    "                             if os.path.isdir(os.path.join(data_folder, family, character))]\n",
    "    \n",
    "    paths=random.sample(character_folders, n_characters)\n",
    "    labels=np.eye(n_characters).tolist()\n",
    "    labels_images=get_images(paths, labels, n_images_pchar, shuffle=False)    \n",
    "    image_files =[label_image[1] for label_image in labels_images]\n",
    "\n",
    "    for image_file in image_files:\n",
    "        img=Image.open(image_file)\n",
    "        plt.figure()\n",
    "        plt.imshow(img)\n",
    "    return\n",
    "\n",
    "view_omniglot_imgfiles(10, 2)\n"
   ]
  },
  {
   "cell_type": "code",
   "execution_count": 9,
   "metadata": {},
   "outputs": [
    {
     "name": "stdout",
     "output_type": "stream",
     "text": [
      "WARNING: Logging before flag parsing goes to stderr.\r\n",
      "W0427 05:59:31.905111 140213980530496 deprecation_wrapper.py:119] From hw1.py:60: The name tf.placeholder is deprecated. Please use tf.compat.v1.placeholder instead.\r\n",
      "\r\n",
      "2 10 32\r\n"
     ]
    }
   ],
   "source": [
    "#testing hw1.py\n",
    "!python hw1.py --num_classes=10 --num_samples=2 --meta_batch_size=32"
   ]
  },
  {
   "cell_type": "code",
   "execution_count": 13,
   "metadata": {},
   "outputs": [],
   "source": [
    "import numpy as np\n",
    "import random\n",
    "import tensorflow as tf\n",
    "from load_data import DataGenerator\n",
    "from tensorflow.python.platform import flags\n",
    "from tensorflow.keras import layers\n",
    "\n",
    "FLAGS = flags.FLAGS\n",
    "\n",
    "flags.DEFINE_integer(\n",
    "    'num_classes', 5, 'number of classes used in classification (e.g. 5-way classification).')\n",
    "\n",
    "flags.DEFINE_integer('num_samples', 1,\n",
    "                     'number of examples used for inner gradient update (K for K-shot learning).')\n",
    "\n",
    "flags.DEFINE_integer('meta_batch_size', 16,\n",
    "                     'Number of N-way classification tasks per batch')"
   ]
  },
  {
   "cell_type": "code",
   "execution_count": 11,
   "metadata": {},
   "outputs": [],
   "source": [
    "#using placeholder variables for flags\n",
    "#!!! need to replace \"flgs_\" with \"FLAGS.\" for testing running hw1.py\n",
    "flgs_num_classes = 5\n",
    "flgs_num_samples = 1\n",
    "flgs_meta_batch_size = 16"
   ]
  },
  {
   "cell_type": "code",
   "execution_count": 14,
   "metadata": {},
   "outputs": [],
   "source": [
    "def loss_function(preds, labels):\n",
    "    \"\"\"\n",
    "    Computes MANN loss\n",
    "    Args:\n",
    "        preds: [B, K+1, N, N] network output\n",
    "        labels: [B, K+1, N, N] labels\n",
    "    Returns:\n",
    "        scalar loss\n",
    "    \"\"\"\n",
    "    #############################\n",
    "    #### YOUR CODE GOES HERE ####\n",
    "    pass\n",
    "    #############################\n",
    "\n",
    "class MANN(tf.keras.Model):\n",
    "\n",
    "    def __init__(self, num_classes, samples_per_class):\n",
    "        super(MANN, self).__init__()\n",
    "        self.num_classes = num_classes\n",
    "        self.samples_per_class = samples_per_class\n",
    "        self.layer1 = tf.keras.layers.LSTM(128, return_sequences=True)\n",
    "        self.layer2 = tf.keras.layers.LSTM(num_classes, return_sequences=True)\n",
    "\n",
    "    def call(self, input_images, input_labels):\n",
    "        \"\"\"\n",
    "        MANN\n",
    "        Args:\n",
    "            input_images: [B, K+1, N, 784] flattened images\n",
    "            labels: [B, K+1, N, N] ground truth labels\n",
    "        Returns:\n",
    "            [B, K+1, N, N] predictions\n",
    "        \"\"\"\n",
    "        #############################\n",
    "        #### YOUR CODE GOES HERE ####\n",
    "        pass\n",
    "        #############################\n",
    "        return out\n",
    "    \n"
   ]
  },
  {
   "cell_type": "code",
   "execution_count": 18,
   "metadata": {},
   "outputs": [],
   "source": [
    "ims = tf.placeholder(tf.float32,shape=(None, flgs_num_samples + 1, flgs_num_classes, 784))\n",
    "labels = tf.placeholder(tf.float32, shape=(None, flgs_num_samples + 1, flgs_num_classes, flgs_num_classes))\n",
    "\n",
    "data_generator = DataGenerator(flgs_num_classes, flgs_num_samples + 1)\n",
    "\n",
    "o = MANN(flgs_num_classes, flgs_num_samples + 1)\n",
    "#out = o(ims, labels) #uncomment once call is implemented\n",
    "\n",
    "#loss = loss_function(out, labels) #uncomment once loss is implemented\n",
    "optim = tf.train.AdamOptimizer(0.001)\n",
    "#optimizer_step = optim.minimize(loss) #uncomment once loss is implemented"
   ]
  },
  {
   "cell_type": "code",
   "execution_count": null,
   "metadata": {},
   "outputs": [],
   "source": [
    "\"\"\"\n",
    "with tf.Session() as sess:\n",
    "    sess.run(tf.local_variables_initializer())\n",
    "    sess.run(tf.global_variables_initializer())\n",
    "\n",
    "    for step in range(50000):\n",
    "        i, l = data_generator.sample_batch('train', FLAGS.meta_batch_size)\n",
    "        feed = {ims: i.astype(np.float32), labels: l.astype(np.float32)}\n",
    "        _, ls = sess.run([optimizer_step, loss], feed)\n",
    "\n",
    "        if step % 100 == 0:\n",
    "            print(\"*\" * 5 + \"Iter \" + str(step) + \"*\" * 5)\n",
    "            i, l = data_generator.sample_batch('test', 100)\n",
    "            feed = {ims: i.astype(np.float32),\n",
    "                    labels: l.astype(np.float32)}\n",
    "            pred, tls = sess.run([out, loss], feed)\n",
    "            print(\"Train Loss:\", ls, \"Test Loss:\", tls)\n",
    "            pred = pred.reshape(\n",
    "                -1, FLAGS.num_samples + 1,\n",
    "                FLAGS.num_classes, FLAGS.num_classes)\n",
    "            pred = pred[:, -1, :, :].argmax(2)\n",
    "            l = l[:, -1, :, :].argmax(2)\n",
    "            print(\"Test Accuracy\", (1.0 * (pred == l)).mean())\n",
    "\"\"\""
   ]
  }
 ],
 "metadata": {
  "kernelspec": {
   "display_name": "Python 3",
   "language": "python",
   "name": "python3"
  },
  "language_info": {
   "codemirror_mode": {
    "name": "ipython",
    "version": 3
   },
   "file_extension": ".py",
   "mimetype": "text/x-python",
   "name": "python",
   "nbconvert_exporter": "python",
   "pygments_lexer": "ipython3",
   "version": "3.6.8"
  }
 },
 "nbformat": 4,
 "nbformat_minor": 4
}
